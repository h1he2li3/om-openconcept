{
 "cells": [
  {
   "cell_type": "markdown",
   "metadata": {},
   "source": [
    "### SimpleMotor"
   ]
  },
  {
   "cell_type": "code",
   "execution_count": null,
   "metadata": {},
   "outputs": [],
   "source": [
    "def compute(self, inputs, outputs):\n",
    "    eta_m = self.options[\"efficiency\"]\n",
    "    weight_inc = self.options[\"weight_inc\"]\n",
    "    weight_base = self.options[\"weight_base\"]\n",
    "    cost_inc = self.options[\"cost_inc\"]\n",
    "    cost_base = self.options[\"cost_base\"]\n",
    "    outputs[\"shaft_power_out\"] = inputs[\"throttle\"] * inputs[\"elec_power_rating\"] * eta_m\n",
    "    outputs[\"heat_out\"] = inputs[\"throttle\"] * inputs[\"elec_power_rating\"] * (1 - eta_m)\n",
    "    outputs[\"elec_load\"] = inputs[\"throttle\"] * inputs[\"elec_power_rating\"]\n",
    "    outputs[\"component_cost\"] = inputs[\"elec_power_rating\"] * cost_inc + cost_base\n",
    "    outputs[\"component_weight\"] = inputs[\"elec_power_rating\"] * weight_inc + weight_base\n",
    "    outputs[\"component_sizing_margin\"] = inputs[\"throttle\"]"
   ]
  },
  {
   "cell_type": "markdown",
   "metadata": {},
   "source": [
    "$$ P_{shaft,\\ out} = Throttle\\ []\\ *\\ Rated\\ Electrical\\ Power\\ []\\ *\\ \\eta_{motor}$$\n",
    "$$ Heat_{out} = Throttle\\ []\\ *\\ Rated\\ Electrical\\ Power\\ []\\ *\\ (1\\ -\\ \\eta_{motor})$$\n",
    "$$ Load_{electrical} = Throttle\\ []\\ *\\ Rated\\ Electrical\\ Power\\ []$$\n",
    "$$ Cost_{component} = (Rated\\ Electrical\\ Power\\ []\\ *\\ Cost\\ Inc\\ Factor\\ [])\\ +\\ Cost\\ Base\\ Factor\\ []$$\n",
    "$$ Weight_{component} = (Rated\\ Electrical\\ Power\\ []\\ *\\ Weight\\ Inc\\ Factor\\ [])\\ +\\ Weight\\ Base\\ Factor\\ []$$\n"
   ]
  },
  {
   "cell_type": "markdown",
   "metadata": {},
   "source": [
    "$$ J\\ (Advance\\ Ratio) = \\frac{V_{a}\\ [m/s]}{n\\ [s-1]*D\\ [m]}$$"
   ]
  },
  {
   "cell_type": "markdown",
   "metadata": {},
   "source": []
  },
  {
   "cell_type": "markdown",
   "metadata": {},
   "source": [
    "### Propellor"
   ]
  },
  {
   "cell_type": "markdown",
   "metadata": {},
   "source": [
    "#### Propellor Coefficients"
   ]
  },
  {
   "cell_type": "code",
   "execution_count": null,
   "metadata": {},
   "outputs": [],
   "source": [
    "def compute(self, inputs, outputs):\n",
    "    # print('Prop shaft power input: ' + str(inputs['shaft_power_in']))\n",
    "    outputs[\"cp\"] = (\n",
    "        inputs[\"shaft_power_in\"] / inputs[\"fltcond|rho\"] / (inputs[\"rpm\"] / 60) ** 3 / inputs[\"diameter\"] ** 5\n",
    "    )\n",
    "    # print('cp: '+str(outputs['cp']))\n",
    "    outputs[\"J\"] = 60.0 * inputs[\"fltcond|Utrue\"] / inputs[\"rpm\"] / inputs[\"diameter\"]\n",
    "    # print('U:'+str(inputs['fltcond|Utrue']))\n",
    "    # print('J: '+str(outputs['J']))\n",
    "    outputs[\"prop_Vtip\"] = inputs[\"rpm\"] / 60 * np.pi * inputs[\"diameter\"]"
   ]
  },
  {
   "cell_type": "markdown",
   "metadata": {},
   "source": [
    "$$ cp\\ (or)\\ Power\\ Coefficient =  \\frac{P_{shaft,\\ in}\\ [kg\\cdot m^{2}\\cdot s^{-3}]}{rho\\ [kg\\cdot m^{-3}]\\cdot (\\frac{RPM}{60})^{3} [s^{-3}]\\cdot Prop_{Dia}\\ [m^5]} $$\n",
    "\n",
    "$$ J\\ (or)\\ (Advance\\ Ratio) = \\frac{V_{a}\\ [m/s]}{n\\ [s-1]\\cdot D\\ [m]}$$\n",
    "\n",
    "$$ Prop_{TipSpeed} = \\frac{RPM}{60}[s^{-1}] \\cdot \\pi \\cdot Prop_{Dia}\\ [m]$$\n",
    "\n",
    "Advance Ratio can be further divided to Static and Dynamic Advance Ratios. At Static regimes, vehicle is stationary or moving at low speeds. At Dynamic regime, vehicle is moving at significant forward speeds."
   ]
  },
  {
   "cell_type": "markdown",
   "metadata": {},
   "source": [
    "#### Thrust Calculations"
   ]
  },
  {
   "cell_type": "code",
   "execution_count": null,
   "metadata": {},
   "outputs": [],
   "source": [
    "def compute(self, inputs, outputs):\n",
    "        # for advance ratio j between 0.10 and 0.20, linearly interpolate the thrust coefficient from the two surrogate models\n",
    "        jinterp_min = 0.10\n",
    "        jinterp_max = 0.20\n",
    "        j = inputs[\"J\"]\n",
    "        # print(inputs['eta_prop'])\n",
    "        # Static Advance Ratio Index finding\n",
    "        static_idx = np.where(j <= jinterp_min)\n",
    "        # Dynamic Advance Ratio Index finding\n",
    "        dynamic_idx = np.where(j >= jinterp_max)\n",
    "        tmp = np.logical_and(j > jinterp_min, j < jinterp_max)\n",
    "        interp_idx = np.where(tmp)\n",
    "\n",
    "        cp = inputs[\"cp\"]\n",
    "        nn = self.options[\"num_nodes\"]\n",
    "        ct = np.zeros(nn)\n",
    "        # ct1 and ct2 are two different modes of calculating thrust coefficient\n",
    "        ct1 = inputs[\"ct_over_cp\"] * cp\n",
    "        ct2 = cp * inputs[\"eta_prop\"] / j\n",
    "        # For Static Advance Ratio\n",
    "        # if j <= jinterp_min:\n",
    "        ct[static_idx] = ct1[static_idx]\n",
    "\n",
    "        # For some point between Static and Dynamic Advance Ratio\n",
    "        # if j > jinterp_min and < jinterp_max:\n",
    "        interv = np.ones(nn) * jinterp_max - np.ones(nn) * jinterp_min\n",
    "        interp1 = (np.ones(nn) * jinterp_max - j) / interv\n",
    "        interp2 = (j - np.ones(nn) * jinterp_min) / interv\n",
    "        ct[interp_idx] = interp1[interp_idx] * ct1[interp_idx] + interp2[interp_idx] * ct2[interp_idx]\n",
    "\n",
    "        # For Dynamic Advance Ratio\n",
    "        # else if j >= jinterp_max\n",
    "        ct[dynamic_idx] = ct2[dynamic_idx]\n",
    "\n",
    "        outputs[\"thrust\"] = ct * inputs[\"fltcond|rho\"] * (inputs[\"rpm\"] / 60.0) ** 2 * inputs[\"diameter\"] ** 4"
   ]
  },
  {
   "cell_type": "markdown",
   "metadata": {},
   "source": [
    "$$ ct1 = \\frac{ct}{cp} \\cdot cp $$\n",
    "$$ ct2 = \\frac{cp \\cdot \\eta_{Prop}}{j} $$\n",
    "$$ Thrust = ct \\cdot rho \\cdot (\\frac{RPM}{60})^{2} \\cdot Prop_{Dia} $$"
   ]
  },
  {
   "cell_type": "markdown",
   "metadata": {},
   "source": []
  },
  {
   "cell_type": "markdown",
   "metadata": {},
   "source": [
    "$$ cp = \\frac{P_{shaft,\\ in}}{\\rho \\cdot d \\cdot (\\frac{\\Omega}{60})^3} $$\n",
    "\n",
    "$$ cp = \\frac{P_{shaft,\\ in}\\ [kg\\cdot m^{2}\\cdot s^{-3}]}{\\rho\\ [kg/m^3] \\cdot d\\ [m] \\cdot (\\frac{\\Omega}{60})^3\\ [s^{-3}]} $$"
   ]
  },
  {
   "cell_type": "markdown",
   "metadata": {},
   "source": []
  }
 ],
 "metadata": {
  "language_info": {
   "name": "python"
  }
 },
 "nbformat": 4,
 "nbformat_minor": 2
}
